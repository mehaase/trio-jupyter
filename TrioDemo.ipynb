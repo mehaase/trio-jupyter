{
 "cells": [
  {
   "cell_type": "markdown",
   "id": "polyphonic-measurement",
   "metadata": {},
   "source": [
    "# Trio Mode\n",
    "\n",
    "This notebook provides an overview of Jupyter's Trio mode. Make sure to run this notebook inside a Trio-mode kernel. \n",
    "\n",
    "## Using Trio APIs"
   ]
  },
  {
   "cell_type": "code",
   "execution_count": 5,
   "id": "mechanical-straight",
   "metadata": {},
   "outputs": [],
   "source": [
    "import trio"
   ]
  },
  {
   "cell_type": "markdown",
   "id": "turned-mounting",
   "metadata": {},
   "source": [
    "The Trio kernel runs each cell as a Trio task on an event loop that is created at startup. This event loop continues running until the kernel terminates. This allows you to run asynchronous code that uses Trio APIs."
   ]
  },
  {
   "cell_type": "code",
   "execution_count": 6,
   "id": "addressed-recorder",
   "metadata": {},
   "outputs": [],
   "source": [
    "await trio.sleep(0)"
   ]
  },
  {
   "cell_type": "markdown",
   "id": "above-vietnamese",
   "metadata": {},
   "source": [
    "You can also call Trio APIs that are not asynchronous:"
   ]
  },
  {
   "cell_type": "code",
   "execution_count": 7,
   "id": "nutritional-filing",
   "metadata": {},
   "outputs": [
    {
     "data": {
      "text/plain": [
       "20444.33086130232"
      ]
     },
     "execution_count": 7,
     "metadata": {},
     "output_type": "execute_result"
    }
   ],
   "source": [
    "trio.current_time()"
   ]
  },
  {
   "cell_type": "markdown",
   "id": "optimum-chancellor",
   "metadata": {},
   "source": [
    "Each cell runs until its underlying task completes. Unfortunately, the `%time` and `%%time` cell magics are not compatible with Trio mode, so we have to define our own timing mechanism."
   ]
  },
  {
   "cell_type": "code",
   "execution_count": 8,
   "id": "accessible-rescue",
   "metadata": {},
   "outputs": [],
   "source": [
    "from contextlib import contextmanager\n",
    "from time import time\n",
    "\n",
    "@contextmanager\n",
    "def stopwatch():\n",
    "    start = time()\n",
    "    yield\n",
    "    elapsed = time() - start\n",
    "    print(f\"Elapsed time: {elapsed:.2f}\")"
   ]
  },
  {
   "cell_type": "code",
   "execution_count": 9,
   "id": "hybrid-cincinnati",
   "metadata": {},
   "outputs": [
    {
     "name": "stdout",
     "output_type": "stream",
     "text": [
      "Elapsed time: 2.01\n"
     ]
    }
   ],
   "source": [
    "with stopwatch():\n",
    "    await trio.sleep(2)"
   ]
  },
  {
   "cell_type": "markdown",
   "id": "known-retailer",
   "metadata": {},
   "source": [
    "## Comparison to `%autoawait trio`\n",
    "\n",
    "Jupyter also has a cell magic called `%autoawait trio` that lets you use Trio inside a notebook, but that feature has a few drawbacks:\n",
    "\n",
    "* Doesn't work with synchronous Trio APIs (e.g. the `trio.current_time()` example above.)\n",
    "* Doesn't allow background tasks.\n",
    "\n",
    "The first point is inconvenient, but the second point is pretty much a deal-breaker. In `%autoawait trio` mode, Jupyter runs each cell inside of a new Trio event loop. This makes it impossible to spawn background tasks that keep running after a cell completes.\n",
    "\n",
    "This is an especially poignant issue in Trio, because libraries may need to create background tasks as part of normal API functionality. For example, a WebSocket library may need a background task to read incoming network data. In `%autoawait trio` mode, the background task has to finish before a cell can complete, and therefore a connection created in one cell cannot be used in other cells!\n",
    "\n",
    "For this reason, the Trio kernel does not use `%autoawait trio`–in fact, trying to execute it will throw an exception."
   ]
  },
  {
   "cell_type": "code",
   "execution_count": 25,
   "id": "electoral-sacrifice",
   "metadata": {},
   "outputs": [
    {
     "name": "stderr",
     "output_type": "stream",
     "text": [
      "/Volumes/Case_Sensitive/third-party/ipykernel/ipykernel/trio_runner.py:20: UserWarning: Autoawait isn't allowed in Trio background loop mode.\n",
      "  lambda _: warnings.warn(\"Autoawait isn't allowed in Trio \"\n"
     ]
    }
   ],
   "source": [
    "%autoawait trio"
   ]
  },
  {
   "cell_type": "markdown",
   "id": "talented-peripheral",
   "metadata": {},
   "source": [
    "## Background Tasks\n",
    "\n",
    "The Trio kernel keeps the event loop open and runs each cell as a Trio task on this long-lived event loop, which solves the problem posed by `%autoawait trio`. Trio's principle of *structued concurrency* requires that all tasks are launched from within a nursery, and it's not possible to create a nursery in one cell and then use it in another cell. Therefore, the Trio kernel exposes a builtin called `GLOBAL_NURSERY` that can be used for spawning background tasks.\n",
    "\n",
    "Let's look at the difference between creating a nursery and using the global nursery."
   ]
  },
  {
   "cell_type": "code",
   "execution_count": 10,
   "id": "continental-excerpt",
   "metadata": {},
   "outputs": [],
   "source": [
    "async def count_to(n):\n",
    "    for i in range(n):\n",
    "        await trio.sleep(1)\n",
    "        now = time()\n",
    "        print(f\"{i} {now:.2f}\")"
   ]
  },
  {
   "cell_type": "code",
   "execution_count": 11,
   "id": "guided-reference",
   "metadata": {},
   "outputs": [
    {
     "name": "stdout",
     "output_type": "stream",
     "text": [
      "0 1617236131.30\n",
      "1 1617236132.30\n",
      "2 1617236133.31\n",
      "3 1617236134.31\n",
      "4 1617236135.31\n",
      "Elapsed time: 5.01\n"
     ]
    }
   ],
   "source": [
    "with stopwatch():\n",
    "    async with trio.open_nursery() as nursery:\n",
    "        nursery.start_soon(count_to, 5)"
   ]
  },
  {
   "cell_type": "markdown",
   "id": "micro-cherry",
   "metadata": {},
   "source": [
    "Notice how the cell takes 5 seconds to run. This is because it is waiting for the nursery to exit, and the nursery is waiting for the task to exit.\n",
    "\n",
    "Now let's try an example where the same task is spawned in the global nursery. Since it doesn't make much sense for a background task to be printing out its results, we'll create a new function which updates a global variable once per second."
   ]
  },
  {
   "cell_type": "code",
   "execution_count": 12,
   "id": "incorporated-palestine",
   "metadata": {},
   "outputs": [],
   "source": [
    "counter = 0\n",
    "async def count():\n",
    "    global counter\n",
    "    while True:\n",
    "        await trio.sleep(1)\n",
    "        counter += 1"
   ]
  },
  {
   "cell_type": "code",
   "execution_count": 18,
   "id": "robust-sessions",
   "metadata": {},
   "outputs": [],
   "source": [
    "def report_count():\n",
    "    global counter\n",
    "    now = time()\n",
    "    print(f\"At time {now:.2f}, the count is {counter}\")"
   ]
  },
  {
   "cell_type": "markdown",
   "id": "resistant-cutting",
   "metadata": {},
   "source": [
    "We cam check if this background task is running by periodically checking the counter to see if it is growing."
   ]
  },
  {
   "cell_type": "code",
   "execution_count": 19,
   "id": "through-sellers",
   "metadata": {},
   "outputs": [
    {
     "name": "stdout",
     "output_type": "stream",
     "text": [
      "At time 1617236475.95, the count is 0\n"
     ]
    }
   ],
   "source": [
    "report_count()"
   ]
  },
  {
   "cell_type": "code",
   "execution_count": 20,
   "id": "marked-printing",
   "metadata": {},
   "outputs": [
    {
     "name": "stdout",
     "output_type": "stream",
     "text": [
      "At time 1617236500.82, the count is 0\n"
     ]
    }
   ],
   "source": [
    "report_count()"
   ]
  },
  {
   "cell_type": "markdown",
   "id": "cosmetic-street",
   "metadata": {},
   "source": [
    "Now let's start the count in the global nursery."
   ]
  },
  {
   "cell_type": "code",
   "execution_count": 21,
   "id": "curious-notion",
   "metadata": {},
   "outputs": [
    {
     "name": "stdout",
     "output_type": "stream",
     "text": [
      "Elapsed time: 0.00\n"
     ]
    }
   ],
   "source": [
    "with stopwatch():\n",
    "    GLOBAL_NURSERY.start_soon(count)"
   ]
  },
  {
   "cell_type": "markdown",
   "id": "christian-guinea",
   "metadata": {},
   "source": [
    "This cell returns immediately, because it is not waiting for `count()` function to return. (Indeed, `count()` never does return.) Instead, it is creating a new task in the background and then completing immediately.\n",
    "\n",
    "Let's check on the counter."
   ]
  },
  {
   "cell_type": "code",
   "execution_count": 22,
   "id": "elegant-execution",
   "metadata": {},
   "outputs": [
    {
     "name": "stdout",
     "output_type": "stream",
     "text": [
      "At time 1617236582.97, the count is 53\n"
     ]
    }
   ],
   "source": [
    "report_count()"
   ]
  },
  {
   "cell_type": "code",
   "execution_count": 23,
   "id": "accessible-chapter",
   "metadata": {},
   "outputs": [
    {
     "name": "stdout",
     "output_type": "stream",
     "text": [
      "At time 1617236588.42, the count is 58\n"
     ]
    }
   ],
   "source": [
    "report_count()"
   ]
  },
  {
   "cell_type": "markdown",
   "id": "seventh-template",
   "metadata": {},
   "source": [
    "This output tells us that the counter task is continuing to run in the background, and we can access its state from other cells in the notebook.\n",
    "\n",
    "## Error Handling\n",
    "\n",
    "The Trio kernel needs to handle exceptions carefully, lest it crash the solitary Trio event loop. Furthermore, a background task doesn't have a specific cell to write error messages to. We will demonstrate with the following task:"
   ]
  },
  {
   "cell_type": "code",
   "execution_count": 27,
   "id": "apart-wrapping",
   "metadata": {},
   "outputs": [],
   "source": [
    "async def thrower():\n",
    "    await trio.sleep(5)\n",
    "    raise Exception(\"Exception raised in thrower()\")"
   ]
  },
  {
   "cell_type": "code",
   "execution_count": 28,
   "id": "supposed-african",
   "metadata": {},
   "outputs": [
    {
     "name": "stdout",
     "output_type": "stream",
     "text": [
      "Elapsed time: 0.00\n"
     ]
    }
   ],
   "source": [
    "with stopwatch():\n",
    "    GLOBAL_NURSERY.start_soon(thrower)"
   ]
  },
  {
   "cell_type": "code",
   "execution_count": 29,
   "id": "excessive-pollution",
   "metadata": {},
   "outputs": [
    {
     "name": "stdout",
     "output_type": "stream",
     "text": [
      "Hello\n"
     ]
    },
    {
     "name": "stderr",
     "output_type": "stream",
     "text": [
      "ERROR:root:An exception occurred in a global nursery task.\n",
      "Traceback (most recent call last):\n",
      "\n",
      "  File \"/var/folders/0p/5qcj97k95556jszmcwwy92jh0000gn/T/ipykernel_72166/358072194.py\", line 3, in thrower\n",
      "    raise Exception(\"Exception raised in thrower()\")\n",
      "\n",
      "Exception: Exception raised in thrower()\n",
      "\n"
     ]
    }
   ],
   "source": [
    "print(\"Hello\")"
   ]
  },
  {
   "cell_type": "markdown",
   "id": "sixth-discount",
   "metadata": {},
   "source": [
    "The exception is not displayed in the cell where the background task was created. In fact, that cell returns immediately, and then the user runs another cell. Instead, the exception is displayed *in the most recently executed cell*. This is partially a quirk of how Jupyter handles output, and also makes sense to display the exception where the user is currently looking, rather than where they were looking when they started the background task.\n",
    "\n",
    "Finally, let's check on the background task again to ensure that the exception did not crash other background tasks:"
   ]
  },
  {
   "cell_type": "code",
   "execution_count": 30,
   "id": "gentle-usage",
   "metadata": {},
   "outputs": [
    {
     "name": "stdout",
     "output_type": "stream",
     "text": [
      "At time 1617237101.40, the count is 570\n"
     ]
    }
   ],
   "source": [
    "report_count()"
   ]
  },
  {
   "cell_type": "code",
   "execution_count": 31,
   "id": "automatic-colombia",
   "metadata": {},
   "outputs": [
    {
     "name": "stdout",
     "output_type": "stream",
     "text": [
      "At time 1617237106.86, the count is 575\n"
     ]
    }
   ],
   "source": [
    "report_count()"
   ]
  },
  {
   "cell_type": "markdown",
   "id": "dirty-orbit",
   "metadata": {},
   "source": [
    "Hooray! The background loop is still running."
   ]
  }
 ],
 "metadata": {
  "kernelspec": {
   "display_name": "Python 3 Trio",
   "language": "python",
   "name": "python3-trio"
  },
  "language_info": {
   "codemirror_mode": {
    "name": "ipython",
    "version": 3
   },
   "file_extension": ".py",
   "mimetype": "text/x-python",
   "name": "python",
   "nbconvert_exporter": "python",
   "pygments_lexer": "ipython3",
   "version": "3.9.1"
  }
 },
 "nbformat": 4,
 "nbformat_minor": 5
}
